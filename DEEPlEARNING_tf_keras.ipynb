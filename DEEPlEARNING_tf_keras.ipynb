{
  "nbformat": 4,
  "nbformat_minor": 0,
  "metadata": {
    "colab": {
      "provenance": []
    },
    "kernelspec": {
      "name": "python3",
      "display_name": "Python 3"
    },
    "language_info": {
      "name": "python"
    }
  },
  "cells": [
    {
      "cell_type": "code",
      "execution_count": null,
      "metadata": {
        "id": "plkfFNRirdJb"
      },
      "outputs": [],
      "source": [
        "import tensorflow as tf\n",
        "from tensorflow import keras\n",
        "import os\n",
        "import pandas as pd\n",
        "import numpy as np\n",
        "import matplotlib.pyplot as plt\n"
      ]
    },
    {
      "cell_type": "code",
      "source": [],
      "metadata": {
        "id": "PIxYrUFBsa-r"
      },
      "execution_count": null,
      "outputs": []
    },
    {
      "cell_type": "code",
      "source": [
        "fashion_mnist_data = keras.datasets.fashion_mnist\n",
        "(all_x_train, all_y_train), (x_test,y_test) = fashion_mnist_data.load_data()"
      ],
      "metadata": {
        "colab": {
          "base_uri": "https://localhost:8080/"
        },
        "id": "2nnj0mbOsbRF",
        "outputId": "4063de86-1e18-47d0-ffee-f7fe634655d5"
      },
      "execution_count": null,
      "outputs": [
        {
          "output_type": "stream",
          "name": "stdout",
          "text": [
            "Downloading data from https://storage.googleapis.com/tensorflow/tf-keras-datasets/train-labels-idx1-ubyte.gz\n",
            "29515/29515 [==============================] - 0s 0us/step\n",
            "Downloading data from https://storage.googleapis.com/tensorflow/tf-keras-datasets/train-images-idx3-ubyte.gz\n",
            "26421880/26421880 [==============================] - 0s 0us/step\n",
            "Downloading data from https://storage.googleapis.com/tensorflow/tf-keras-datasets/t10k-labels-idx1-ubyte.gz\n",
            "5148/5148 [==============================] - 0s 0us/step\n",
            "Downloading data from https://storage.googleapis.com/tensorflow/tf-keras-datasets/t10k-images-idx3-ubyte.gz\n",
            "4422102/4422102 [==============================] - 0s 0us/step\n"
          ]
        }
      ]
    },
    {
      "cell_type": "code",
      "source": [
        "all_x_train = all_x_train.astype('float32')\n",
        "x_test = x_test.astype('float32')"
      ],
      "metadata": {
        "id": "nhY6SPjQsx_X"
      },
      "execution_count": null,
      "outputs": []
    },
    {
      "cell_type": "code",
      "source": [
        "print(f'all_xtrain.shape = {all_x_train.shape}')\n",
        "print(f'all_x_train[0].shape = {all_x_train[0].shape}')\n",
        "print(f'all_x_train[0].shape = {all_x_train[0].dtype }')"
      ],
      "metadata": {
        "colab": {
          "base_uri": "https://localhost:8080/"
        },
        "id": "dRkI2NnzsbfO",
        "outputId": "9e77b279-ea27-43fc-95c3-52647813210b"
      },
      "execution_count": null,
      "outputs": [
        {
          "output_type": "stream",
          "name": "stdout",
          "text": [
            "all_xtrain.shape = (60000, 28, 28)\n",
            "all_x_train[0].shape = (28, 28)\n",
            "all_x_train[0].shape = float32\n"
          ]
        }
      ]
    },
    {
      "cell_type": "code",
      "source": [
        "x_validation, x_train = all_x_train[:5000] / 255.0, all_x_train[5000:] / 255.0\n",
        "y_validation, y_train = all_y_train[:5000], all_y_train[5000:]"
      ],
      "metadata": {
        "id": "7J24ZVPstINA"
      },
      "execution_count": null,
      "outputs": []
    },
    {
      "cell_type": "code",
      "source": [
        "print(f'x_train.shape = {x_train.shape}')\n",
        "print(f'x_train[0].shape = {x_train[0].shape}')\n",
        "print(f'x_train[0].shape = {x_train[0].dtype }')"
      ],
      "metadata": {
        "colab": {
          "base_uri": "https://localhost:8080/"
        },
        "id": "3l-K0QXFubv5",
        "outputId": "a4f7b345-0063-4ca3-8083-24aee480f284"
      },
      "execution_count": null,
      "outputs": [
        {
          "output_type": "stream",
          "name": "stdout",
          "text": [
            "x_train.shape = (55000, 28, 28)\n",
            "x_train[0].shape = (28, 28)\n",
            "x_train[0].shape = float32\n"
          ]
        }
      ]
    },
    {
      "cell_type": "code",
      "source": [
        "fashion_mnist_class_names = [\"T-shirt/top\",\"Trouser\",\"Pullover\",\"Dress\",\"Coat\",\"Sandal\",\"Shirt\",\"Sneaker\",\"Bag\",\"Ankle boot\"]"
      ],
      "metadata": {
        "id": "1190HWJivMYC"
      },
      "execution_count": null,
      "outputs": []
    },
    {
      "cell_type": "code",
      "source": [
        "for cls in range(10):\n",
        "  print(cls, \":\", fashion_mnist_class_names[y_train[cls]])"
      ],
      "metadata": {
        "colab": {
          "base_uri": "https://localhost:8080/"
        },
        "id": "DOLZzNRKyJh3",
        "outputId": "921001a2-9d09-4c71-8da6-3bccc9079145"
      },
      "execution_count": null,
      "outputs": [
        {
          "output_type": "stream",
          "name": "stdout",
          "text": [
            "0 : Coat\n",
            "1 : T-shirt/top\n",
            "2 : Sneaker\n",
            "3 : Ankle boot\n",
            "4 : Ankle boot\n",
            "5 : Ankle boot\n",
            "6 : Coat\n",
            "7 : Coat\n",
            "8 : Dress\n",
            "9 : Coat\n"
          ]
        }
      ]
    },
    {
      "cell_type": "code",
      "source": [
        "for i in range(5):\n",
        "  my_img = x_train[i]\n",
        "  my_img_class = y_train[i]\n",
        "  my_img_class_name= fashion_mnist_class_names[my_img_class]\n",
        "  plt.imshow(my_img)\n",
        "  plt.title(my_img_class_name)\n",
        "  plt.show()"
      ],
      "metadata": {
        "colab": {
          "base_uri": "https://localhost:8080/",
          "height": 1000
        },
        "id": "XviqvE_ByXuV",
        "outputId": "61ea7592-b120-4823-d2b1-04c801342a21"
      },
      "execution_count": null,
      "outputs": [
        {
          "output_type": "display_data",
          "data": {
            "text/plain": [
              "<Figure size 640x480 with 1 Axes>"
            ],
            "image/png": "[encoded data removed]"
          },
          "metadata": {}
        },
        {
          "output_type": "display_data",
          "data": {
            "text/plain": [
              "<Figure size 640x480 with 1 Axes>"
            ],
            "image/png": "[encoded data removed]"
          },
          "metadata": {}
        },
        {
          "output_type": "display_data",
          "data": {
            "text/plain": [
              "<Figure size 640x480 with 1 Axes>"
            ],
            "image/png": "[encoded data removed]"
          },
          "metadata": {}
        },
        {
          "output_type": "display_data",
          "data": {
            "text/plain": [
              "<Figure size 640x480 with 1 Axes>"
            ],
            "image/png": "[encoded data removed]"
          },
          "metadata": {}
        },
        {
          "output_type": "display_data",
          "data": {
            "text/plain": [
              "<Figure size 640x480 with 1 Axes>"
            ],
            "image/png": "[encoded data removed]"
          },
          "metadata": {}
        }
      ]
    },
    {
      "cell_type": "code",
      "source": [
        "model = keras.models.Sequential()\n",
        "model.add(keras.layers.Flatten(input_shape=[28,28]))\n",
        "model.add(keras.layers.Dense(300,activation=\"relu\"))\n",
        "model.add(keras.layers.Dense(150, activation=\"relu\"))\n",
        "model.add(keras.layers.Dense(10, activation=\"softmax\"))"
      ],
      "metadata": {
        "id": "OsbXcDWnzJBO"
      },
      "execution_count": null,
      "outputs": []
    },
    {
      "cell_type": "code",
      "source": [
        "model.summary( )"
      ],
      "metadata": {
        "colab": {
          "base_uri": "https://localhost:8080/"
        },
        "id": "4K3AiIM0z7QY",
        "outputId": "8541071d-fd94-42f0-f477-b6f3613a718f"
      },
      "execution_count": null,
      "outputs": [
        {
          "output_type": "stream",
          "name": "stdout",
          "text": [
            "Model: \"sequential\"\n",
            "_________________________________________________________________\n",
            " Layer (type)                Output Shape              Param #   \n",
            "=================================================================\n",
            " flatten (Flatten)           (None, 784)               0         \n",
            "                                                                 \n",
            " dense (Dense)               (None, 300)               235500    \n",
            "                                                                 \n",
            " dense_1 (Dense)             (None, 150)               45150     \n",
            "                                                                 \n",
            " dense_2 (Dense)             (None, 10)                1510      \n",
            "                                                                 \n",
            "=================================================================\n",
            "Total params: 282160 (1.08 MB)\n",
            "Trainable params: 282160 (1.08 MB)\n",
            "Non-trainable params: 0 (0.00 Byte)\n",
            "_________________________________________________________________\n"
          ]
        }
      ]
    },
    {
      "cell_type": "code",
      "source": [
        "model.compile(loss=\"sparse_categorical_crossentropy\", optimizer=\"sgd\", metrics=[\"accuracy\"])\n"
      ],
      "metadata": {
        "id": "vixfb02E7t1G"
      },
      "execution_count": null,
      "outputs": []
    },
    {
      "cell_type": "code",
      "source": [
        "results = model.fit (x_train, y_train, epochs= 40, \\\n",
        "                    validation_data = (x_validation, y_validation))\n"
      ],
      "metadata": {
        "colab": {
          "base_uri": "https://localhost:8080/"
        },
        "id": "y6UzL_xLB1pM",
        "outputId": "9c051e58-f2fd-4876-bf7b-61a6db33fda9"
      },
      "execution_count": null,
      "outputs": [
        {
          "output_type": "stream",
          "name": "stdout",
          "text": [
            "Epoch 1/40\n",
            "1719/1719 [==============================] - 9s 5ms/step - loss: 0.4795 - accuracy: 0.8336 - val_loss: 0.4520 - val_accuracy: 0.8464\n",
            "Epoch 2/40\n",
            "1719/1719 [==============================] - 7s 4ms/step - loss: 0.4391 - accuracy: 0.8465 - val_loss: 0.4164 - val_accuracy: 0.8544\n",
            "Epoch 3/40\n",
            "1719/1719 [==============================] - 9s 5ms/step - loss: 0.4129 - accuracy: 0.8546 - val_loss: 0.3942 - val_accuracy: 0.8624\n",
            "Epoch 4/40\n",
            "1719/1719 [==============================] - 8s 5ms/step - loss: 0.3934 - accuracy: 0.8611 - val_loss: 0.3893 - val_accuracy: 0.8642\n",
            "Epoch 5/40\n",
            "1719/1719 [==============================] - 7s 4ms/step - loss: 0.3777 - accuracy: 0.8679 - val_loss: 0.4035 - val_accuracy: 0.8594\n",
            "Epoch 6/40\n",
            "1719/1719 [==============================] - 8s 5ms/step - loss: 0.3641 - accuracy: 0.8716 - val_loss: 0.3811 - val_accuracy: 0.8628\n",
            "Epoch 7/40\n",
            "1719/1719 [==============================] - 9s 5ms/step - loss: 0.3533 - accuracy: 0.8742 - val_loss: 0.3689 - val_accuracy: 0.8686\n",
            "Epoch 8/40\n",
            "1719/1719 [==============================] - 8s 4ms/step - loss: 0.3423 - accuracy: 0.8787 - val_loss: 0.3526 - val_accuracy: 0.8768\n",
            "Epoch 9/40\n",
            "1719/1719 [==============================] - 8s 5ms/step - loss: 0.3331 - accuracy: 0.8813 - val_loss: 0.3513 - val_accuracy: 0.8764\n",
            "Epoch 10/40\n",
            "1719/1719 [==============================] - 9s 5ms/step - loss: 0.3254 - accuracy: 0.8849 - val_loss: 0.3403 - val_accuracy: 0.8844\n",
            "Epoch 11/40\n",
            "1719/1719 [==============================] - 8s 5ms/step - loss: 0.3169 - accuracy: 0.8869 - val_loss: 0.3355 - val_accuracy: 0.8790\n",
            "Epoch 12/40\n",
            "1719/1719 [==============================] - 9s 5ms/step - loss: 0.3097 - accuracy: 0.8898 - val_loss: 0.3265 - val_accuracy: 0.8818\n",
            "Epoch 13/40\n",
            "1719/1719 [==============================] - 8s 5ms/step - loss: 0.3031 - accuracy: 0.8915 - val_loss: 0.3282 - val_accuracy: 0.8830\n",
            "Epoch 14/40\n",
            "1719/1719 [==============================] - 7s 4ms/step - loss: 0.2969 - accuracy: 0.8938 - val_loss: 0.3258 - val_accuracy: 0.8818\n",
            "Epoch 15/40\n",
            "1719/1719 [==============================] - 10s 6ms/step - loss: 0.2906 - accuracy: 0.8966 - val_loss: 0.3377 - val_accuracy: 0.8788\n",
            "Epoch 16/40\n",
            "1719/1719 [==============================] - 9s 5ms/step - loss: 0.2849 - accuracy: 0.8979 - val_loss: 0.3237 - val_accuracy: 0.8836\n",
            "Epoch 17/40\n",
            "1719/1719 [==============================] - 8s 5ms/step - loss: 0.2793 - accuracy: 0.8999 - val_loss: 0.3148 - val_accuracy: 0.8882\n",
            "Epoch 18/40\n",
            "1719/1719 [==============================] - 9s 6ms/step - loss: 0.2734 - accuracy: 0.9014 - val_loss: 0.3233 - val_accuracy: 0.8846\n",
            "Epoch 19/40\n",
            "1719/1719 [==============================] - 10s 6ms/step - loss: 0.2684 - accuracy: 0.9043 - val_loss: 0.3045 - val_accuracy: 0.8900\n",
            "Epoch 20/40\n",
            "1719/1719 [==============================] - 8s 5ms/step - loss: 0.2635 - accuracy: 0.9055 - val_loss: 0.3114 - val_accuracy: 0.8882\n",
            "Epoch 21/40\n",
            "1719/1719 [==============================] - 8s 5ms/step - loss: 0.2592 - accuracy: 0.9068 - val_loss: 0.3193 - val_accuracy: 0.8876\n",
            "Epoch 22/40\n",
            "1719/1719 [==============================] - 9s 6ms/step - loss: 0.2552 - accuracy: 0.9081 - val_loss: 0.3047 - val_accuracy: 0.8918\n",
            "Epoch 23/40\n",
            "1719/1719 [==============================] - 9s 5ms/step - loss: 0.2510 - accuracy: 0.9104 - val_loss: 0.3089 - val_accuracy: 0.8924\n",
            "Epoch 24/40\n",
            "1719/1719 [==============================] - 7s 4ms/step - loss: 0.2454 - accuracy: 0.9125 - val_loss: 0.3090 - val_accuracy: 0.8878\n",
            "Epoch 25/40\n",
            "1719/1719 [==============================] - 10s 6ms/step - loss: 0.2430 - accuracy: 0.9130 - val_loss: 0.2976 - val_accuracy: 0.8892\n",
            "Epoch 26/40\n",
            "1719/1719 [==============================] - 8s 5ms/step - loss: 0.2387 - accuracy: 0.9145 - val_loss: 0.3157 - val_accuracy: 0.8864\n",
            "Epoch 27/40\n",
            "1719/1719 [==============================] - 8s 5ms/step - loss: 0.2338 - accuracy: 0.9161 - val_loss: 0.2932 - val_accuracy: 0.8954\n",
            "Epoch 28/40\n",
            "1719/1719 [==============================] - 9s 5ms/step - loss: 0.2302 - accuracy: 0.9181 - val_loss: 0.3078 - val_accuracy: 0.8896\n",
            "Epoch 29/40\n",
            "1719/1719 [==============================] - 9s 5ms/step - loss: 0.2263 - accuracy: 0.9180 - val_loss: 0.3010 - val_accuracy: 0.8916\n",
            "Epoch 30/40\n",
            "1719/1719 [==============================] - 8s 4ms/step - loss: 0.2237 - accuracy: 0.9203 - val_loss: 0.2992 - val_accuracy: 0.8928\n",
            "Epoch 31/40\n",
            "1719/1719 [==============================] - 10s 6ms/step - loss: 0.2197 - accuracy: 0.9214 - val_loss: 0.2994 - val_accuracy: 0.8950\n",
            "Epoch 32/40\n",
            "1719/1719 [==============================] - 9s 5ms/step - loss: 0.2170 - accuracy: 0.9233 - val_loss: 0.3096 - val_accuracy: 0.8866\n",
            "Epoch 33/40\n",
            "1719/1719 [==============================] - 9s 5ms/step - loss: 0.2132 - accuracy: 0.9237 - val_loss: 0.2889 - val_accuracy: 0.8964\n",
            "Epoch 34/40\n",
            "1719/1719 [==============================] - 8s 5ms/step - loss: 0.2094 - accuracy: 0.9248 - val_loss: 0.3019 - val_accuracy: 0.8956\n",
            "Epoch 35/40\n",
            "1719/1719 [==============================] - 9s 5ms/step - loss: 0.2054 - accuracy: 0.9270 - val_loss: 0.3214 - val_accuracy: 0.8854\n",
            "Epoch 36/40\n",
            "1719/1719 [==============================] - 10s 6ms/step - loss: 0.2037 - accuracy: 0.9273 - val_loss: 0.3439 - val_accuracy: 0.8820\n",
            "Epoch 37/40\n",
            "1719/1719 [==============================] - 8s 5ms/step - loss: 0.1998 - accuracy: 0.9277 - val_loss: 0.2901 - val_accuracy: 0.8964\n",
            "Epoch 38/40\n",
            "1719/1719 [==============================] - 9s 5ms/step - loss: 0.1971 - accuracy: 0.9295 - val_loss: 0.3008 - val_accuracy: 0.8910\n",
            "Epoch 39/40\n",
            "1719/1719 [==============================] - 9s 5ms/step - loss: 0.1945 - accuracy: 0.9303 - val_loss: 0.2892 - val_accuracy: 0.8952\n",
            "Epoch 40/40\n",
            "1719/1719 [==============================] - 9s 5ms/step - loss: 0.1900 - accuracy: 0.9330 - val_loss: 0.3036 - val_accuracy: 0.8928\n"
          ]
        }
      ]
    },
    {
      "cell_type": "code",
      "source": [
        "import pandas as pd\n",
        "pd.DataFrame(results.history).plot(figsize=(8,5))\n",
        "plt.grid(True)\n",
        "plt.gca().set_ylim(0,1)\n",
        "plt.show"
      ],
      "metadata": {
        "colab": {
          "base_uri": "https://localhost:8080/",
          "height": 468
        },
        "id": "9MFSB07t1w7e",
        "outputId": "4fc22799-cc60-4b52-cddd-ba04c7ba5d82"
      },
      "execution_count": null,
      "outputs": [
        {
          "output_type": "execute_result",
          "data": {
            "text/plain": [
              "<function matplotlib.pyplot.show(close=None, block=None)>"
            ]
          },
          "metadata": {},
          "execution_count": 19
        },
        {
          "output_type": "display_data",
          "data": {
            "text/plain": [
              "<Figure size 800x500 with 1 Axes>"
            ],
            "image/png": "[encoded data removed]"
          },
          "metadata": {}
        }
      ]
    },
    {
      "cell_type": "code",
      "source": [
        "x_test = x_test / 255.0\n",
        "print(\"Evaluation de modele:\")\n",
        "model.evaluate(x_test,y_test)"
      ],
      "metadata": {
        "colab": {
          "base_uri": "https://localhost:8080/"
        },
        "id": "tz5uIFBa11ze",
        "outputId": "75374261-4fd9-48fc-bb93-a7d9234ebec7"
      },
      "execution_count": null,
      "outputs": [
        {
          "output_type": "stream",
          "name": "stdout",
          "text": [
            "Evaluation de modele:\n",
            "313/313 [==============================] - 1s 3ms/step - loss: 0.3389 - accuracy: 0.8823\n"
          ]
        },
        {
          "output_type": "execute_result",
          "data": {
            "text/plain": [
              "[0.3388688266277313, 0.8823000192642212]"
            ]
          },
          "metadata": {},
          "execution_count": 20
        }
      ]
    },
    {
      "cell_type": "code",
      "source": [
        "from sklearn.datasets import fetch_california_housing\n",
        "from sklearn.model_selection import train_test_split\n",
        "from sklearn.preprocessing import StandardScaler\n",
        "\n"
      ],
      "metadata": {
        "id": "w5Lb3YxbtN9-"
      },
      "execution_count": null,
      "outputs": []
    },
    {
      "cell_type": "code",
      "source": [
        "housing = fetch_california_housing()\n",
        "all_x_train, x_test, all_y_train, y_test = train_test_split(housing.data, housing.target)"
      ],
      "metadata": {
        "id": "-ax_OVs1xf_d"
      },
      "execution_count": null,
      "outputs": []
    },
    {
      "cell_type": "code",
      "source": [
        "print(f\"all_x_train.shape = {all_x_train.shape}\")\n",
        "print(f\"all_x_train.dtype = {all_x_train.dtype}\")\n",
        "print(f\"type(all_x_train) = {type(all_x_train)}\")\n",
        "print(f\"Features = {all_x_train[0]} ; variable cible = {all_y_train[0]}\")"
      ],
      "metadata": {
        "colab": {
          "base_uri": "https://localhost:8080/"
        },
        "id": "FSNjWvZzxuDS",
        "outputId": "dd020245-ac54-4a05-efd6-ec25a7dd8b76"
      },
      "execution_count": null,
      "outputs": [
        {
          "output_type": "stream",
          "name": "stdout",
          "text": [
            "all_x_train.shape = (15480, 8)\n",
            "all_x_train.dtype = float64\n",
            "type(all_x_train) = <class 'numpy.ndarray'>\n",
            "Features = [   5.8343       15.            6.59872611    0.94904459  395.\n",
            "    2.51592357   32.95       -117.26      ] ; variable cible = 5.00001\n"
          ]
        }
      ]
    },
    {
      "cell_type": "code",
      "source": [
        "x_train, x_validation, y_train, y_validation = train_test_split(all_x_train, all_y_train)\n",
        "scaler = StandardScaler()\n",
        "x_train_scales = scaler.fit_transform(x_train)\n",
        "x_validation_scaled = scaler.transform(x_validation)\n",
        "x_test_scaled = scaler.transform(x_test)"
      ],
      "metadata": {
        "id": "V2Le9Q0Y0MU3"
      },
      "execution_count": null,
      "outputs": []
    },
    {
      "cell_type": "code",
      "source": [
        "print(f\"Le max - min de y_train= [{np.max(y_train)}- {np.min(y_train)}]\")\n",
        "print(f\"le max - min de y_validation = [{np.max(y_validation)}- {np.min(y_validation)}] \")\n",
        "print(f\"le max - min de y_test = [{np.max(y_test)} - {np.min(y_test)}\")"
      ],
      "metadata": {
        "colab": {
          "base_uri": "https://localhost:8080/"
        },
        "id": "i3dSgCUQ2-dw",
        "outputId": "25b23ca7-e147-4186-c27b-f9152195ff86"
      },
      "execution_count": null,
      "outputs": [
        {
          "output_type": "stream",
          "name": "stdout",
          "text": [
            "Le max - min de y_train= [5.00001- 0.14999]\n",
            "le max - min de y_validation = [5.00001- 0.269] \n",
            "le max - min de y_test = [5.00001 - 0.14999\n"
          ]
        }
      ]
    },
    {
      "cell_type": "code",
      "source": [
        "model= keras.models.Sequential()\n",
        "model.add(keras.layers.Dense(30, activation=\"relu\", input_shape=x_train_scales.shape[1:]))\n",
        "model.add(keras.layers.Dense(15, activation=\"relu\"))\n",
        "model.add(keras.layers.Dense(8, activation=\"relu\"))\n",
        "model.add(keras.layers.Dense(1))"
      ],
      "metadata": {
        "id": "w2dZHSXi5Sdh"
      },
      "execution_count": null,
      "outputs": []
    },
    {
      "cell_type": "code",
      "source": [
        "model.summary()"
      ],
      "metadata": {
        "colab": {
          "base_uri": "https://localhost:8080/"
        },
        "id": "7p6PuYTt5tuu",
        "outputId": "6390d960-d674-4bf5-b1a4-2dab5197163d"
      },
      "execution_count": null,
      "outputs": [
        {
          "output_type": "stream",
          "name": "stdout",
          "text": [
            "Model: \"sequential_2\"\n",
            "_________________________________________________________________\n",
            " Layer (type)                Output Shape              Param #   \n",
            "=================================================================\n",
            " dense_3 (Dense)             (None, 30)                270       \n",
            "                                                                 \n",
            " dense_4 (Dense)             (None, 15)                465       \n",
            "                                                                 \n",
            " dense_5 (Dense)             (None, 8)                 128       \n",
            "                                                                 \n",
            " dense_6 (Dense)             (None, 1)                 9         \n",
            "                                                                 \n",
            "=================================================================\n",
            "Total params: 872 (3.41 KB)\n",
            "Trainable params: 872 (3.41 KB)\n",
            "Non-trainable params: 0 (0.00 Byte)\n",
            "_________________________________________________________________\n"
          ]
        }
      ]
    },
    {
      "cell_type": "code",
      "source": [
        "model.compile(loss=\"mse\", optimizer= \"rmsprop\", metrics=[\"mae\"])\n",
        "result = model.fit(x_train_scales, y_train, epochs=100, \\\n",
        "                   validation_data =(x_validation_scaled, y_validation))"
      ],
      "metadata": {
        "colab": {
          "base_uri": "https://localhost:8080/"
        },
        "id": "TxDFh0wJ9r1_",
        "outputId": "af609cff-53c8-4db1-f3e6-50b59ceba295"
      },
      "execution_count": null,
      "outputs": [
        {
          "output_type": "stream",
          "name": "stdout",
          "text": [
            "Epoch 1/100\n",
            "363/363 [==============================] - 2s 5ms/step - loss: 1.7923 - mae: 0.9463 - val_loss: 0.6137 - val_mae: 0.5658\n",
            "Epoch 2/100\n",
            "363/363 [==============================] - 1s 4ms/step - loss: 0.5128 - mae: 0.5095 - val_loss: 0.4671 - val_mae: 0.4845\n",
            "Epoch 3/100\n",
            "363/363 [==============================] - 1s 3ms/step - loss: 0.4279 - mae: 0.4647 - val_loss: 0.4263 - val_mae: 0.4579\n",
            "Epoch 4/100\n",
            "363/363 [==============================] - 1s 3ms/step - loss: 0.3959 - mae: 0.4467 - val_loss: 0.4084 - val_mae: 0.4453\n",
            "Epoch 5/100\n",
            "363/363 [==============================] - 1s 3ms/step - loss: 0.3766 - mae: 0.4369 - val_loss: 0.3930 - val_mae: 0.4375\n",
            "Epoch 6/100\n",
            "363/363 [==============================] - 1s 2ms/step - loss: 0.3630 - mae: 0.4298 - val_loss: 0.3798 - val_mae: 0.4307\n",
            "Epoch 7/100\n",
            "363/363 [==============================] - 1s 3ms/step - loss: 0.3529 - mae: 0.4234 - val_loss: 0.3766 - val_mae: 0.4394\n",
            "Epoch 8/100\n",
            "363/363 [==============================] - 1s 3ms/step - loss: 0.3464 - mae: 0.4197 - val_loss: 0.3688 - val_mae: 0.4231\n",
            "Epoch 9/100\n",
            "363/363 [==============================] - 1s 2ms/step - loss: 0.3454 - mae: 0.4155 - val_loss: 0.3624 - val_mae: 0.4217\n",
            "Epoch 10/100\n",
            "363/363 [==============================] - 1s 3ms/step - loss: 0.3397 - mae: 0.4113 - val_loss: 0.3598 - val_mae: 0.4150\n",
            "Epoch 11/100\n",
            "363/363 [==============================] - 1s 3ms/step - loss: 0.3332 - mae: 0.4076 - val_loss: 0.3602 - val_mae: 0.4205\n",
            "Epoch 12/100\n",
            "363/363 [==============================] - 1s 2ms/step - loss: 0.3274 - mae: 0.4045 - val_loss: 0.3550 - val_mae: 0.4151\n",
            "Epoch 13/100\n",
            "363/363 [==============================] - 1s 3ms/step - loss: 0.3227 - mae: 0.4004 - val_loss: 0.3444 - val_mae: 0.4112\n",
            "Epoch 14/100\n",
            "363/363 [==============================] - 1s 4ms/step - loss: 0.3203 - mae: 0.3965 - val_loss: 0.3466 - val_mae: 0.4184\n",
            "Epoch 15/100\n",
            "363/363 [==============================] - 1s 3ms/step - loss: 0.3135 - mae: 0.3936 - val_loss: 0.3353 - val_mae: 0.3917\n",
            "Epoch 16/100\n",
            "363/363 [==============================] - 1s 2ms/step - loss: 0.3100 - mae: 0.3903 - val_loss: 0.3332 - val_mae: 0.3910\n",
            "Epoch 17/100\n",
            "363/363 [==============================] - 1s 3ms/step - loss: 0.3064 - mae: 0.3880 - val_loss: 0.3342 - val_mae: 0.3983\n",
            "Epoch 18/100\n",
            "363/363 [==============================] - 1s 2ms/step - loss: 0.3024 - mae: 0.3855 - val_loss: 0.3225 - val_mae: 0.3886\n",
            "Epoch 19/100\n",
            "363/363 [==============================] - 1s 3ms/step - loss: 0.3042 - mae: 0.3842 - val_loss: 0.3285 - val_mae: 0.4019\n",
            "Epoch 20/100\n",
            "363/363 [==============================] - 1s 3ms/step - loss: 0.3019 - mae: 0.3837 - val_loss: 0.3227 - val_mae: 0.3913\n",
            "Epoch 21/100\n",
            "363/363 [==============================] - 1s 3ms/step - loss: 0.3008 - mae: 0.3815 - val_loss: 0.3174 - val_mae: 0.3870\n",
            "Epoch 22/100\n",
            "363/363 [==============================] - 1s 3ms/step - loss: 0.3006 - mae: 0.3808 - val_loss: 0.3168 - val_mae: 0.3885\n",
            "Epoch 23/100\n",
            "363/363 [==============================] - 1s 3ms/step - loss: 0.2994 - mae: 0.3794 - val_loss: 0.3183 - val_mae: 0.3802\n",
            "Epoch 24/100\n",
            "363/363 [==============================] - 1s 3ms/step - loss: 0.2932 - mae: 0.3784 - val_loss: 0.3292 - val_mae: 0.3870\n",
            "Epoch 25/100\n",
            "363/363 [==============================] - 1s 3ms/step - loss: 0.2971 - mae: 0.3787 - val_loss: 0.3265 - val_mae: 0.4057\n",
            "Epoch 26/100\n",
            "363/363 [==============================] - 1s 4ms/step - loss: 0.2934 - mae: 0.3774 - val_loss: 0.3255 - val_mae: 0.3998\n",
            "Epoch 27/100\n",
            "363/363 [==============================] - 1s 3ms/step - loss: 0.2968 - mae: 0.3769 - val_loss: 0.3167 - val_mae: 0.3795\n",
            "Epoch 28/100\n",
            "363/363 [==============================] - 1s 3ms/step - loss: 0.2936 - mae: 0.3760 - val_loss: 0.3153 - val_mae: 0.3825\n",
            "Epoch 29/100\n",
            "363/363 [==============================] - 1s 3ms/step - loss: 0.2902 - mae: 0.3756 - val_loss: 0.3459 - val_mae: 0.3899\n",
            "Epoch 30/100\n",
            "363/363 [==============================] - 1s 2ms/step - loss: 0.2890 - mae: 0.3741 - val_loss: 0.3113 - val_mae: 0.3785\n",
            "Epoch 31/100\n",
            "363/363 [==============================] - 1s 2ms/step - loss: 0.2878 - mae: 0.3736 - val_loss: 0.3177 - val_mae: 0.3764\n",
            "Epoch 32/100\n",
            "363/363 [==============================] - 1s 2ms/step - loss: 0.2873 - mae: 0.3726 - val_loss: 0.3083 - val_mae: 0.3769\n",
            "Epoch 33/100\n",
            "363/363 [==============================] - 1s 3ms/step - loss: 0.2863 - mae: 0.3730 - val_loss: 0.3159 - val_mae: 0.3855\n",
            "Epoch 34/100\n",
            "363/363 [==============================] - 1s 3ms/step - loss: 0.2865 - mae: 0.3721 - val_loss: 0.3108 - val_mae: 0.3877\n",
            "Epoch 35/100\n",
            "363/363 [==============================] - 1s 3ms/step - loss: 0.2891 - mae: 0.3710 - val_loss: 0.3294 - val_mae: 0.4106\n",
            "Epoch 36/100\n",
            "363/363 [==============================] - 1s 2ms/step - loss: 0.2849 - mae: 0.3707 - val_loss: 0.3080 - val_mae: 0.3816\n",
            "Epoch 37/100\n",
            "363/363 [==============================] - 1s 3ms/step - loss: 0.2843 - mae: 0.3701 - val_loss: 0.3147 - val_mae: 0.3832\n",
            "Epoch 38/100\n",
            "363/363 [==============================] - 1s 3ms/step - loss: 0.2847 - mae: 0.3691 - val_loss: 0.3132 - val_mae: 0.3899\n",
            "Epoch 39/100\n",
            "363/363 [==============================] - 1s 4ms/step - loss: 0.2825 - mae: 0.3684 - val_loss: 0.3131 - val_mae: 0.3838\n",
            "Epoch 40/100\n",
            "363/363 [==============================] - 1s 2ms/step - loss: 0.2799 - mae: 0.3677 - val_loss: 0.3054 - val_mae: 0.3804\n",
            "Epoch 41/100\n",
            "363/363 [==============================] - 1s 2ms/step - loss: 0.2824 - mae: 0.3667 - val_loss: 0.3277 - val_mae: 0.3807\n",
            "Epoch 42/100\n",
            "363/363 [==============================] - 1s 2ms/step - loss: 0.2820 - mae: 0.3673 - val_loss: 0.3068 - val_mae: 0.3723\n",
            "Epoch 43/100\n",
            "363/363 [==============================] - 1s 2ms/step - loss: 0.2827 - mae: 0.3670 - val_loss: 0.3084 - val_mae: 0.3795\n",
            "Epoch 44/100\n",
            "363/363 [==============================] - 1s 2ms/step - loss: 0.2825 - mae: 0.3663 - val_loss: 0.3038 - val_mae: 0.3827\n",
            "Epoch 45/100\n",
            "363/363 [==============================] - 1s 2ms/step - loss: 0.2797 - mae: 0.3653 - val_loss: 0.3133 - val_mae: 0.3796\n",
            "Epoch 46/100\n",
            "363/363 [==============================] - 1s 2ms/step - loss: 0.2776 - mae: 0.3650 - val_loss: 0.3085 - val_mae: 0.3800\n",
            "Epoch 47/100\n",
            "363/363 [==============================] - 1s 3ms/step - loss: 0.2782 - mae: 0.3645 - val_loss: 0.3092 - val_mae: 0.3695\n",
            "Epoch 48/100\n",
            "363/363 [==============================] - 1s 3ms/step - loss: 0.2789 - mae: 0.3639 - val_loss: 0.3090 - val_mae: 0.3691\n",
            "Epoch 49/100\n",
            "363/363 [==============================] - 1s 3ms/step - loss: 0.2783 - mae: 0.3629 - val_loss: 0.3064 - val_mae: 0.3782\n",
            "Epoch 50/100\n",
            "363/363 [==============================] - 1s 2ms/step - loss: 0.2772 - mae: 0.3627 - val_loss: 0.3135 - val_mae: 0.3810\n",
            "Epoch 51/100\n",
            "363/363 [==============================] - 1s 3ms/step - loss: 0.2746 - mae: 0.3613 - val_loss: 0.3060 - val_mae: 0.3786\n",
            "Epoch 52/100\n",
            "363/363 [==============================] - 1s 4ms/step - loss: 0.2766 - mae: 0.3628 - val_loss: 0.3150 - val_mae: 0.3877\n",
            "Epoch 53/100\n",
            "363/363 [==============================] - 1s 3ms/step - loss: 0.2780 - mae: 0.3617 - val_loss: 0.3134 - val_mae: 0.3848\n",
            "Epoch 54/100\n",
            "363/363 [==============================] - 1s 3ms/step - loss: 0.2750 - mae: 0.3619 - val_loss: 0.3066 - val_mae: 0.3804\n",
            "Epoch 55/100\n",
            "363/363 [==============================] - 1s 3ms/step - loss: 0.2745 - mae: 0.3613 - val_loss: 0.3054 - val_mae: 0.3793\n",
            "Epoch 56/100\n",
            "363/363 [==============================] - 1s 2ms/step - loss: 0.2758 - mae: 0.3604 - val_loss: 0.2954 - val_mae: 0.3653\n",
            "Epoch 57/100\n",
            "363/363 [==============================] - 1s 3ms/step - loss: 0.2757 - mae: 0.3596 - val_loss: 0.3022 - val_mae: 0.3684\n",
            "Epoch 58/100\n",
            "363/363 [==============================] - 1s 3ms/step - loss: 0.2717 - mae: 0.3596 - val_loss: 0.3073 - val_mae: 0.3805\n",
            "Epoch 59/100\n",
            "363/363 [==============================] - 1s 3ms/step - loss: 0.2747 - mae: 0.3594 - val_loss: 0.3019 - val_mae: 0.3718\n",
            "Epoch 60/100\n",
            "363/363 [==============================] - 1s 3ms/step - loss: 0.2739 - mae: 0.3587 - val_loss: 0.3062 - val_mae: 0.3647\n",
            "Epoch 61/100\n",
            "363/363 [==============================] - 1s 2ms/step - loss: 0.2715 - mae: 0.3581 - val_loss: 0.3060 - val_mae: 0.3670\n",
            "Epoch 62/100\n",
            "363/363 [==============================] - 1s 3ms/step - loss: 0.2695 - mae: 0.3569 - val_loss: 0.3059 - val_mae: 0.3808\n",
            "Epoch 63/100\n",
            "363/363 [==============================] - 1s 2ms/step - loss: 0.2694 - mae: 0.3579 - val_loss: 0.3041 - val_mae: 0.3757\n",
            "Epoch 64/100\n",
            "363/363 [==============================] - 1s 3ms/step - loss: 0.2759 - mae: 0.3571 - val_loss: 0.3022 - val_mae: 0.3726\n",
            "Epoch 65/100\n",
            "363/363 [==============================] - 1s 3ms/step - loss: 0.2732 - mae: 0.3560 - val_loss: 0.3051 - val_mae: 0.3790\n",
            "Epoch 66/100\n",
            "363/363 [==============================] - 1s 2ms/step - loss: 0.2701 - mae: 0.3560 - val_loss: 0.2976 - val_mae: 0.3662\n",
            "Epoch 67/100\n",
            "363/363 [==============================] - 1s 2ms/step - loss: 0.2715 - mae: 0.3564 - val_loss: 0.2948 - val_mae: 0.3661\n",
            "Epoch 68/100\n",
            "363/363 [==============================] - 1s 2ms/step - loss: 0.2689 - mae: 0.3557 - val_loss: 0.3051 - val_mae: 0.3854\n",
            "Epoch 69/100\n",
            "363/363 [==============================] - 1s 3ms/step - loss: 0.2709 - mae: 0.3559 - val_loss: 0.2964 - val_mae: 0.3744\n",
            "Epoch 70/100\n",
            "363/363 [==============================] - 1s 2ms/step - loss: 0.2681 - mae: 0.3557 - val_loss: 0.2989 - val_mae: 0.3734\n",
            "Epoch 71/100\n",
            "363/363 [==============================] - 1s 2ms/step - loss: 0.2687 - mae: 0.3548 - val_loss: 0.3002 - val_mae: 0.3740\n",
            "Epoch 72/100\n",
            "363/363 [==============================] - 1s 2ms/step - loss: 0.2674 - mae: 0.3549 - val_loss: 0.3170 - val_mae: 0.3845\n",
            "Epoch 73/100\n",
            "363/363 [==============================] - 1s 3ms/step - loss: 0.2707 - mae: 0.3547 - val_loss: 0.3142 - val_mae: 0.3900\n",
            "Epoch 74/100\n",
            "363/363 [==============================] - 1s 3ms/step - loss: 0.2660 - mae: 0.3544 - val_loss: 0.3081 - val_mae: 0.3817\n",
            "Epoch 75/100\n",
            "363/363 [==============================] - 1s 3ms/step - loss: 0.2675 - mae: 0.3531 - val_loss: 0.2964 - val_mae: 0.3793\n",
            "Epoch 76/100\n",
            "363/363 [==============================] - 1s 2ms/step - loss: 0.2663 - mae: 0.3543 - val_loss: 0.3065 - val_mae: 0.3734\n",
            "Epoch 77/100\n",
            "363/363 [==============================] - 1s 3ms/step - loss: 0.2708 - mae: 0.3529 - val_loss: 0.2915 - val_mae: 0.3616\n",
            "Epoch 78/100\n",
            "363/363 [==============================] - 1s 4ms/step - loss: 0.2665 - mae: 0.3511 - val_loss: 0.3205 - val_mae: 0.3964\n",
            "Epoch 79/100\n",
            "363/363 [==============================] - 1s 3ms/step - loss: 0.2649 - mae: 0.3522 - val_loss: 0.2976 - val_mae: 0.3661\n",
            "Epoch 80/100\n",
            "363/363 [==============================] - 1s 3ms/step - loss: 0.2652 - mae: 0.3516 - val_loss: 0.2975 - val_mae: 0.3679\n",
            "Epoch 81/100\n",
            "363/363 [==============================] - 1s 2ms/step - loss: 0.2726 - mae: 0.3525 - val_loss: 0.3077 - val_mae: 0.3670\n",
            "Epoch 82/100\n",
            "363/363 [==============================] - 1s 2ms/step - loss: 0.2654 - mae: 0.3506 - val_loss: 0.2910 - val_mae: 0.3685\n",
            "Epoch 83/100\n",
            "363/363 [==============================] - 1s 2ms/step - loss: 0.2671 - mae: 0.3515 - val_loss: 0.3047 - val_mae: 0.3814\n",
            "Epoch 84/100\n",
            "363/363 [==============================] - 1s 2ms/step - loss: 0.2646 - mae: 0.3512 - val_loss: 0.2917 - val_mae: 0.3641\n",
            "Epoch 85/100\n",
            "363/363 [==============================] - 1s 2ms/step - loss: 0.2699 - mae: 0.3513 - val_loss: 0.2949 - val_mae: 0.3700\n",
            "Epoch 86/100\n",
            "363/363 [==============================] - 1s 3ms/step - loss: 0.2632 - mae: 0.3509 - val_loss: 0.2921 - val_mae: 0.3660\n",
            "Epoch 87/100\n",
            "363/363 [==============================] - 1s 2ms/step - loss: 0.2669 - mae: 0.3514 - val_loss: 0.2974 - val_mae: 0.3664\n",
            "Epoch 88/100\n",
            "363/363 [==============================] - 1s 3ms/step - loss: 0.2644 - mae: 0.3516 - val_loss: 0.2926 - val_mae: 0.3684\n",
            "Epoch 89/100\n",
            "363/363 [==============================] - 1s 2ms/step - loss: 0.2696 - mae: 0.3509 - val_loss: 0.3010 - val_mae: 0.3644\n",
            "Epoch 90/100\n",
            "363/363 [==============================] - 1s 4ms/step - loss: 0.2635 - mae: 0.3490 - val_loss: 0.3024 - val_mae: 0.3655\n",
            "Epoch 91/100\n",
            "363/363 [==============================] - 1s 4ms/step - loss: 0.2645 - mae: 0.3505 - val_loss: 0.3084 - val_mae: 0.3857\n",
            "Epoch 92/100\n",
            "363/363 [==============================] - 1s 3ms/step - loss: 0.2650 - mae: 0.3505 - val_loss: 0.2935 - val_mae: 0.3584\n",
            "Epoch 93/100\n",
            "363/363 [==============================] - 1s 2ms/step - loss: 0.2664 - mae: 0.3499 - val_loss: 0.2925 - val_mae: 0.3649\n",
            "Epoch 94/100\n",
            "363/363 [==============================] - 1s 2ms/step - loss: 0.2620 - mae: 0.3493 - val_loss: 0.2936 - val_mae: 0.3707\n",
            "Epoch 95/100\n",
            "363/363 [==============================] - 1s 3ms/step - loss: 0.2697 - mae: 0.3490 - val_loss: 0.2912 - val_mae: 0.3627\n",
            "Epoch 96/100\n",
            "363/363 [==============================] - 1s 3ms/step - loss: 0.2671 - mae: 0.3498 - val_loss: 0.2961 - val_mae: 0.3593\n",
            "Epoch 97/100\n",
            "363/363 [==============================] - 1s 2ms/step - loss: 0.2631 - mae: 0.3492 - val_loss: 0.2976 - val_mae: 0.3655\n",
            "Epoch 98/100\n",
            "363/363 [==============================] - 1s 3ms/step - loss: 0.2654 - mae: 0.3490 - val_loss: 0.2921 - val_mae: 0.3648\n",
            "Epoch 99/100\n",
            "363/363 [==============================] - 1s 2ms/step - loss: 0.2602 - mae: 0.3477 - val_loss: 0.3005 - val_mae: 0.3695\n",
            "Epoch 100/100\n",
            "363/363 [==============================] - 1s 3ms/step - loss: 0.2647 - mae: 0.3498 - val_loss: 0.2903 - val_mae: 0.3678\n"
          ]
        }
      ]
    },
    {
      "cell_type": "code",
      "source": [
        "mae_test = model.evaluate(x_test_scaled, y_test)"
      ],
      "metadata": {
        "colab": {
          "base_uri": "https://localhost:8080/"
        },
        "id": "o-MJcORh-_Rm",
        "outputId": "c45cb308-14fb-4325-a372-e39cc2310c71"
      },
      "execution_count": null,
      "outputs": [
        {
          "output_type": "stream",
          "name": "stdout",
          "text": [
            "162/162 [==============================] - 0s 2ms/step - loss: 0.3002 - mae: 0.3685\n"
          ]
        }
      ]
    }
  ]
}